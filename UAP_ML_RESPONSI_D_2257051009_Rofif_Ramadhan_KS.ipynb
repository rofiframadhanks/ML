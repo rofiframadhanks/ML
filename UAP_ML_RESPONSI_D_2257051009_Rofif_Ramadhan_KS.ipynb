{
  "cells": [
    {
      "cell_type": "markdown",
      "metadata": {
        "id": "qBU1s5_7z_bD"
      },
      "source": [
        "\n",
        "\n",
        "---\n",
        "\n",
        "\n",
        "Nama  : Rofif Ramadhan Khoirulloh Sowija\n",
        "\n",
        "NPM   : 2257051009\n",
        "\n",
        "Kelas : D\n",
        "\n",
        "\n",
        "---\n",
        "\n"
      ]
    },
    {
      "cell_type": "code",
      "execution_count": null,
      "metadata": {
        "colab": {
          "base_uri": "https://localhost:8080/"
        },
        "id": "f1WLJJw-Fnuo",
        "outputId": "48823b05-aaa4-422b-f189-102774eb0635"
      },
      "outputs": [
        {
          "name": "stdout",
          "output_type": "stream",
          "text": [
            "Requirement already satisfied: kneed in /usr/local/lib/python3.10/dist-packages (0.8.5)\n",
            "Requirement already satisfied: numpy>=1.14.2 in /usr/local/lib/python3.10/dist-packages (from kneed) (1.25.2)\n",
            "Requirement already satisfied: scipy>=1.0.0 in /usr/local/lib/python3.10/dist-packages (from kneed) (1.11.4)\n"
          ]
        }
      ],
      "source": [
        "!pip install kneed"
      ]
    },
    {
      "cell_type": "markdown",
      "metadata": {
        "id": "8ARcZ6q60w3X"
      },
      "source": [
        "##Library"
      ]
    },
    {
      "cell_type": "code",
      "execution_count": null,
      "metadata": {
        "id": "gGgIyDOYz3IK"
      },
      "outputs": [],
      "source": [
        "import numpy as np\n",
        "import pandas as pd\n",
        "import matplotlib.pyplot as plt\n",
        "import seaborn as sns\n",
        "from sklearn.decomposition import PCA\n",
        "from sklearn.preprocessing import StandardScaler\n",
        "from sklearn.neighbors import NearestNeighbors\n",
        "from sklearn.cluster import DBSCAN\n",
        "from kneed import KneeLocator\n",
        "from sklearn.metrics import silhouette_score, calinski_harabasz_score, davies_bouldin_score\n",
        "from sklearn.model_selection import train_test_split\n",
        "from sklearn.impute import SimpleImputer\n",
        "from sklearn.model_selection import train_test_split, cross_val_score"
      ]
    },
    {
      "cell_type": "markdown",
      "metadata": {
        "id": "OOV89m-p026F"
      },
      "source": [
        "##Dataset"
      ]
    },
    {
      "cell_type": "code",
      "execution_count": null,
      "metadata": {
        "colab": {
          "base_uri": "https://localhost:8080/",
          "height": 206
        },
        "id": "UI5pBuGy0PxA",
        "outputId": "6b5c72f8-086e-42db-add7-78af1bf21362"
      },
      "outputs": [
        {
          "data": {
            "application/vnd.google.colaboratory.intrinsic+json": {
              "summary": "{\n  \"name\": \"data\",\n  \"rows\": 1326,\n  \"fields\": [\n    {\n      \"column\": \"Monthly Income (k$)\",\n      \"properties\": {\n        \"dtype\": \"number\",\n        \"std\": 541.054098649035,\n        \"min\": 11.014818113716949,\n        \"max\": 6412.427257573605,\n        \"num_unique_values\": 1326,\n        \"samples\": [\n          295.80543441578266,\n          463.1433399480694,\n          191.02506727905197\n        ],\n        \"semantic_type\": \"\",\n        \"description\": \"\"\n      }\n    },\n    {\n      \"column\": \"Monthly Expenses (k$)\",\n      \"properties\": {\n        \"dtype\": \"number\",\n        \"std\": 595.7444457445444,\n        \"min\": 8.342844017358189,\n        \"max\": 10687.009510184063,\n        \"num_unique_values\": 1326,\n        \"samples\": [\n          127.48026061367584,\n          169.2631364431364,\n          281.04947971918665\n        ],\n        \"semantic_type\": \"\",\n        \"description\": \"\"\n      }\n    },\n    {\n      \"column\": \"Savings (k$)\",\n      \"properties\": {\n        \"dtype\": \"number\",\n        \"std\": 1669.1761041864033,\n        \"min\": 7.125672655759786,\n        \"max\": 30026.352065183037,\n        \"num_unique_values\": 1326,\n        \"samples\": [\n          528.4770732220895,\n          165.27599345531462,\n          815.2564342230779\n        ],\n        \"semantic_type\": \"\",\n        \"description\": \"\"\n      }\n    },\n    {\n      \"column\": \"Debt (k$)\",\n      \"properties\": {\n        \"dtype\": \"number\",\n        \"std\": 779.5553393841855,\n        \"min\": 3.24007095907627,\n        \"max\": 10375.80048408944,\n        \"num_unique_values\": 1326,\n        \"samples\": [\n          203.34527912307263,\n          320.63611869244886,\n          162.51318969976137\n        ],\n        \"semantic_type\": \"\",\n        \"description\": \"\"\n      }\n    },\n    {\n      \"column\": \"Credit Score\",\n      \"properties\": {\n        \"dtype\": \"number\",\n        \"std\": 148,\n        \"min\": 300,\n        \"max\": 849,\n        \"num_unique_values\": 484,\n        \"samples\": [\n          315,\n          541,\n          659\n        ],\n        \"semantic_type\": \"\",\n        \"description\": \"\"\n      }\n    },\n    {\n      \"column\": \"Age\",\n      \"properties\": {\n        \"dtype\": \"number\",\n        \"std\": 14,\n        \"min\": 18,\n        \"max\": 69,\n        \"num_unique_values\": 52,\n        \"samples\": [\n          62,\n          43,\n          35\n        ],\n        \"semantic_type\": \"\",\n        \"description\": \"\"\n      }\n    },\n    {\n      \"column\": \"Education\",\n      \"properties\": {\n        \"dtype\": \"category\",\n        \"num_unique_values\": 5,\n        \"samples\": [\n          \"Elementary\",\n          \"Middle School\",\n          \"Associate\"\n        ],\n        \"semantic_type\": \"\",\n        \"description\": \"\"\n      }\n    },\n    {\n      \"column\": \"Number of Dependents\",\n      \"properties\": {\n        \"dtype\": \"number\",\n        \"std\": 1,\n        \"min\": 0,\n        \"max\": 4,\n        \"num_unique_values\": 5,\n        \"samples\": [\n          2,\n          1,\n          0\n        ],\n        \"semantic_type\": \"\",\n        \"description\": \"\"\n      }\n    },\n    {\n      \"column\": \"Transaction Frequency (transactions/month)\",\n      \"properties\": {\n        \"dtype\": \"number\",\n        \"std\": 3,\n        \"min\": 2,\n        \"max\": 21,\n        \"num_unique_values\": 20,\n        \"samples\": [\n          13,\n          19,\n          17\n        ],\n        \"semantic_type\": \"\",\n        \"description\": \"\"\n      }\n    },\n    {\n      \"column\": \"Cluster\",\n      \"properties\": {\n        \"dtype\": \"number\",\n        \"std\": 2,\n        \"min\": 0,\n        \"max\": 9,\n        \"num_unique_values\": 10,\n        \"samples\": [\n          8,\n          1,\n          2\n        ],\n        \"semantic_type\": \"\",\n        \"description\": \"\"\n      }\n    }\n  ]\n}",
              "type": "dataframe",
              "variable_name": "data"
            },
            "text/html": [
              "\n",
              "  <div id=\"df-0f525e5a-2019-4861-82cb-56c10c7f342f\" class=\"colab-df-container\">\n",
              "    <div>\n",
              "<style scoped>\n",
              "    .dataframe tbody tr th:only-of-type {\n",
              "        vertical-align: middle;\n",
              "    }\n",
              "\n",
              "    .dataframe tbody tr th {\n",
              "        vertical-align: top;\n",
              "    }\n",
              "\n",
              "    .dataframe thead th {\n",
              "        text-align: right;\n",
              "    }\n",
              "</style>\n",
              "<table border=\"1\" class=\"dataframe\">\n",
              "  <thead>\n",
              "    <tr style=\"text-align: right;\">\n",
              "      <th></th>\n",
              "      <th>Monthly Income (k$)</th>\n",
              "      <th>Monthly Expenses (k$)</th>\n",
              "      <th>Savings (k$)</th>\n",
              "      <th>Debt (k$)</th>\n",
              "      <th>Credit Score</th>\n",
              "      <th>Age</th>\n",
              "      <th>Education</th>\n",
              "      <th>Number of Dependents</th>\n",
              "      <th>Transaction Frequency (transactions/month)</th>\n",
              "      <th>Cluster</th>\n",
              "    </tr>\n",
              "  </thead>\n",
              "  <tbody>\n",
              "    <tr>\n",
              "      <th>0</th>\n",
              "      <td>301.381886</td>\n",
              "      <td>32.973187</td>\n",
              "      <td>110.822563</td>\n",
              "      <td>248.429859</td>\n",
              "      <td>689</td>\n",
              "      <td>33</td>\n",
              "      <td>High School</td>\n",
              "      <td>4</td>\n",
              "      <td>13</td>\n",
              "      <td>4</td>\n",
              "    </tr>\n",
              "    <tr>\n",
              "      <th>1</th>\n",
              "      <td>87.509803</td>\n",
              "      <td>20.725693</td>\n",
              "      <td>61.192659</td>\n",
              "      <td>147.949023</td>\n",
              "      <td>306</td>\n",
              "      <td>20</td>\n",
              "      <td>Elementary</td>\n",
              "      <td>2</td>\n",
              "      <td>9</td>\n",
              "      <td>1</td>\n",
              "    </tr>\n",
              "    <tr>\n",
              "      <th>2</th>\n",
              "      <td>542.820989</td>\n",
              "      <td>68.495979</td>\n",
              "      <td>180.075334</td>\n",
              "      <td>409.147509</td>\n",
              "      <td>528</td>\n",
              "      <td>36</td>\n",
              "      <td>Elementary</td>\n",
              "      <td>0</td>\n",
              "      <td>10</td>\n",
              "      <td>1</td>\n",
              "    </tr>\n",
              "    <tr>\n",
              "      <th>3</th>\n",
              "      <td>909.769803</td>\n",
              "      <td>771.107937</td>\n",
              "      <td>713.257583</td>\n",
              "      <td>102.750161</td>\n",
              "      <td>308</td>\n",
              "      <td>26</td>\n",
              "      <td>Associate</td>\n",
              "      <td>3</td>\n",
              "      <td>7</td>\n",
              "      <td>0</td>\n",
              "    </tr>\n",
              "    <tr>\n",
              "      <th>4</th>\n",
              "      <td>534.125605</td>\n",
              "      <td>522.050836</td>\n",
              "      <td>1481.054600</td>\n",
              "      <td>473.567688</td>\n",
              "      <td>306</td>\n",
              "      <td>58</td>\n",
              "      <td>Associate</td>\n",
              "      <td>2</td>\n",
              "      <td>8</td>\n",
              "      <td>0</td>\n",
              "    </tr>\n",
              "  </tbody>\n",
              "</table>\n",
              "</div>\n",
              "    <div class=\"colab-df-buttons\">\n",
              "\n",
              "  <div class=\"colab-df-container\">\n",
              "    <button class=\"colab-df-convert\" onclick=\"convertToInteractive('df-0f525e5a-2019-4861-82cb-56c10c7f342f')\"\n",
              "            title=\"Convert this dataframe to an interactive table.\"\n",
              "            style=\"display:none;\">\n",
              "\n",
              "  <svg xmlns=\"http://www.w3.org/2000/svg\" height=\"24px\" viewBox=\"0 -960 960 960\">\n",
              "    <path d=\"M120-120v-720h720v720H120Zm60-500h600v-160H180v160Zm220 220h160v-160H400v160Zm0 220h160v-160H400v160ZM180-400h160v-160H180v160Zm440 0h160v-160H620v160ZM180-180h160v-160H180v160Zm440 0h160v-160H620v160Z\"/>\n",
              "  </svg>\n",
              "    </button>\n",
              "\n",
              "  <style>\n",
              "    .colab-df-container {\n",
              "      display:flex;\n",
              "      gap: 12px;\n",
              "    }\n",
              "\n",
              "    .colab-df-convert {\n",
              "      background-color: #E8F0FE;\n",
              "      border: none;\n",
              "      border-radius: 50%;\n",
              "      cursor: pointer;\n",
              "      display: none;\n",
              "      fill: #1967D2;\n",
              "      height: 32px;\n",
              "      padding: 0 0 0 0;\n",
              "      width: 32px;\n",
              "    }\n",
              "\n",
              "    .colab-df-convert:hover {\n",
              "      background-color: #E2EBFA;\n",
              "      box-shadow: 0px 1px 2px rgba(60, 64, 67, 0.3), 0px 1px 3px 1px rgba(60, 64, 67, 0.15);\n",
              "      fill: #174EA6;\n",
              "    }\n",
              "\n",
              "    .colab-df-buttons div {\n",
              "      margin-bottom: 4px;\n",
              "    }\n",
              "\n",
              "    [theme=dark] .colab-df-convert {\n",
              "      background-color: #3B4455;\n",
              "      fill: #D2E3FC;\n",
              "    }\n",
              "\n",
              "    [theme=dark] .colab-df-convert:hover {\n",
              "      background-color: #434B5C;\n",
              "      box-shadow: 0px 1px 3px 1px rgba(0, 0, 0, 0.15);\n",
              "      filter: drop-shadow(0px 1px 2px rgba(0, 0, 0, 0.3));\n",
              "      fill: #FFFFFF;\n",
              "    }\n",
              "  </style>\n",
              "\n",
              "    <script>\n",
              "      const buttonEl =\n",
              "        document.querySelector('#df-0f525e5a-2019-4861-82cb-56c10c7f342f button.colab-df-convert');\n",
              "      buttonEl.style.display =\n",
              "        google.colab.kernel.accessAllowed ? 'block' : 'none';\n",
              "\n",
              "      async function convertToInteractive(key) {\n",
              "        const element = document.querySelector('#df-0f525e5a-2019-4861-82cb-56c10c7f342f');\n",
              "        const dataTable =\n",
              "          await google.colab.kernel.invokeFunction('convertToInteractive',\n",
              "                                                    [key], {});\n",
              "        if (!dataTable) return;\n",
              "\n",
              "        const docLinkHtml = 'Like what you see? Visit the ' +\n",
              "          '<a target=\"_blank\" href=https://colab.research.google.com/notebooks/data_table.ipynb>data table notebook</a>'\n",
              "          + ' to learn more about interactive tables.';\n",
              "        element.innerHTML = '';\n",
              "        dataTable['output_type'] = 'display_data';\n",
              "        await google.colab.output.renderOutput(dataTable, element);\n",
              "        const docLink = document.createElement('div');\n",
              "        docLink.innerHTML = docLinkHtml;\n",
              "        element.appendChild(docLink);\n",
              "      }\n",
              "    </script>\n",
              "  </div>\n",
              "\n",
              "\n",
              "<div id=\"df-204993c3-87ac-4517-8bc3-63e0de01015f\">\n",
              "  <button class=\"colab-df-quickchart\" onclick=\"quickchart('df-204993c3-87ac-4517-8bc3-63e0de01015f')\"\n",
              "            title=\"Suggest charts\"\n",
              "            style=\"display:none;\">\n",
              "\n",
              "<svg xmlns=\"http://www.w3.org/2000/svg\" height=\"24px\"viewBox=\"0 0 24 24\"\n",
              "     width=\"24px\">\n",
              "    <g>\n",
              "        <path d=\"M19 3H5c-1.1 0-2 .9-2 2v14c0 1.1.9 2 2 2h14c1.1 0 2-.9 2-2V5c0-1.1-.9-2-2-2zM9 17H7v-7h2v7zm4 0h-2V7h2v10zm4 0h-2v-4h2v4z\"/>\n",
              "    </g>\n",
              "</svg>\n",
              "  </button>\n",
              "\n",
              "<style>\n",
              "  .colab-df-quickchart {\n",
              "      --bg-color: #E8F0FE;\n",
              "      --fill-color: #1967D2;\n",
              "      --hover-bg-color: #E2EBFA;\n",
              "      --hover-fill-color: #174EA6;\n",
              "      --disabled-fill-color: #AAA;\n",
              "      --disabled-bg-color: #DDD;\n",
              "  }\n",
              "\n",
              "  [theme=dark] .colab-df-quickchart {\n",
              "      --bg-color: #3B4455;\n",
              "      --fill-color: #D2E3FC;\n",
              "      --hover-bg-color: #434B5C;\n",
              "      --hover-fill-color: #FFFFFF;\n",
              "      --disabled-bg-color: #3B4455;\n",
              "      --disabled-fill-color: #666;\n",
              "  }\n",
              "\n",
              "  .colab-df-quickchart {\n",
              "    background-color: var(--bg-color);\n",
              "    border: none;\n",
              "    border-radius: 50%;\n",
              "    cursor: pointer;\n",
              "    display: none;\n",
              "    fill: var(--fill-color);\n",
              "    height: 32px;\n",
              "    padding: 0;\n",
              "    width: 32px;\n",
              "  }\n",
              "\n",
              "  .colab-df-quickchart:hover {\n",
              "    background-color: var(--hover-bg-color);\n",
              "    box-shadow: 0 1px 2px rgba(60, 64, 67, 0.3), 0 1px 3px 1px rgba(60, 64, 67, 0.15);\n",
              "    fill: var(--button-hover-fill-color);\n",
              "  }\n",
              "\n",
              "  .colab-df-quickchart-complete:disabled,\n",
              "  .colab-df-quickchart-complete:disabled:hover {\n",
              "    background-color: var(--disabled-bg-color);\n",
              "    fill: var(--disabled-fill-color);\n",
              "    box-shadow: none;\n",
              "  }\n",
              "\n",
              "  .colab-df-spinner {\n",
              "    border: 2px solid var(--fill-color);\n",
              "    border-color: transparent;\n",
              "    border-bottom-color: var(--fill-color);\n",
              "    animation:\n",
              "      spin 1s steps(1) infinite;\n",
              "  }\n",
              "\n",
              "  @keyframes spin {\n",
              "    0% {\n",
              "      border-color: transparent;\n",
              "      border-bottom-color: var(--fill-color);\n",
              "      border-left-color: var(--fill-color);\n",
              "    }\n",
              "    20% {\n",
              "      border-color: transparent;\n",
              "      border-left-color: var(--fill-color);\n",
              "      border-top-color: var(--fill-color);\n",
              "    }\n",
              "    30% {\n",
              "      border-color: transparent;\n",
              "      border-left-color: var(--fill-color);\n",
              "      border-top-color: var(--fill-color);\n",
              "      border-right-color: var(--fill-color);\n",
              "    }\n",
              "    40% {\n",
              "      border-color: transparent;\n",
              "      border-right-color: var(--fill-color);\n",
              "      border-top-color: var(--fill-color);\n",
              "    }\n",
              "    60% {\n",
              "      border-color: transparent;\n",
              "      border-right-color: var(--fill-color);\n",
              "    }\n",
              "    80% {\n",
              "      border-color: transparent;\n",
              "      border-right-color: var(--fill-color);\n",
              "      border-bottom-color: var(--fill-color);\n",
              "    }\n",
              "    90% {\n",
              "      border-color: transparent;\n",
              "      border-bottom-color: var(--fill-color);\n",
              "    }\n",
              "  }\n",
              "</style>\n",
              "\n",
              "  <script>\n",
              "    async function quickchart(key) {\n",
              "      const quickchartButtonEl =\n",
              "        document.querySelector('#' + key + ' button');\n",
              "      quickchartButtonEl.disabled = true;  // To prevent multiple clicks.\n",
              "      quickchartButtonEl.classList.add('colab-df-spinner');\n",
              "      try {\n",
              "        const charts = await google.colab.kernel.invokeFunction(\n",
              "            'suggestCharts', [key], {});\n",
              "      } catch (error) {\n",
              "        console.error('Error during call to suggestCharts:', error);\n",
              "      }\n",
              "      quickchartButtonEl.classList.remove('colab-df-spinner');\n",
              "      quickchartButtonEl.classList.add('colab-df-quickchart-complete');\n",
              "    }\n",
              "    (() => {\n",
              "      let quickchartButtonEl =\n",
              "        document.querySelector('#df-204993c3-87ac-4517-8bc3-63e0de01015f button');\n",
              "      quickchartButtonEl.style.display =\n",
              "        google.colab.kernel.accessAllowed ? 'block' : 'none';\n",
              "    })();\n",
              "  </script>\n",
              "</div>\n",
              "\n",
              "    </div>\n",
              "  </div>\n"
            ],
            "text/plain": [
              "   Monthly Income (k$)  Monthly Expenses (k$)  Savings (k$)   Debt (k$)  \\\n",
              "0           301.381886              32.973187    110.822563  248.429859   \n",
              "1            87.509803              20.725693     61.192659  147.949023   \n",
              "2           542.820989              68.495979    180.075334  409.147509   \n",
              "3           909.769803             771.107937    713.257583  102.750161   \n",
              "4           534.125605             522.050836   1481.054600  473.567688   \n",
              "\n",
              "   Credit Score  Age    Education  Number of Dependents  \\\n",
              "0           689   33  High School                     4   \n",
              "1           306   20   Elementary                     2   \n",
              "2           528   36   Elementary                     0   \n",
              "3           308   26    Associate                     3   \n",
              "4           306   58    Associate                     2   \n",
              "\n",
              "   Transaction Frequency (transactions/month)  Cluster  \n",
              "0                                          13        4  \n",
              "1                                           9        1  \n",
              "2                                          10        1  \n",
              "3                                           7        0  \n",
              "4                                           8        0  "
            ]
          },
          "execution_count": 75,
          "metadata": {},
          "output_type": "execute_result"
        }
      ],
      "source": [
        "# Membaca dataset\n",
        "df = pd.read_csv('https://raw.githubusercontent.com/jhnwlkn/Machine-Leaning/main/financial_stability_dataset.csv')\n",
        "\n",
        "# Menampilkan beberapa baris pertama dari dataset\n",
        "data.head()"
      ]
    },
    {
      "cell_type": "markdown",
      "metadata": {
        "id": "w1rNZ2OcA8Vh"
      },
      "source": [
        "##Preprocessing Data"
      ]
    },
    {
      "cell_type": "code",
      "execution_count": null,
      "metadata": {
        "id": "6DqHnL-h1Dnj"
      },
      "outputs": [],
      "source": [
        "# Preprocessing data\n",
        "# Hapus outlier\n",
        "df.loc[df['Monthly Income (k$)'] < 0, \"Monthly Income (k$)\"] = np.nan\n",
        "df.loc[df[\"Monthly Income (k$)\"] > 100, \"Monthly Income (k$)\"] = np.nan\n",
        "\n",
        "# Preprocessing Kolom 'Education'\n",
        "# Menghapus karakter non-digit dan mengonversi ke tipe data numerik\n",
        "df['Education'] = df['Education'].str.replace('\\D', '', regex=True)\n",
        "df['Education'] = pd.to_numeric(df['Education'], errors='coerce')"
      ]
    },
    {
      "cell_type": "code",
      "execution_count": null,
      "metadata": {
        "id": "WurBnSho1FBN"
      },
      "outputs": [],
      "source": [
        "# Mengisi nilai yang hilang dalam kolom 'Education' dengan rata-rata\n",
        "df['Education'].fillna(value=df['Education'].mean(), inplace=True)\n",
        "\n",
        "# Menghapus kolom yang tidak diperlukan\n",
        "df_clean = df.drop(['Credit Score', 'Education'], axis=1)"
      ]
    },
    {
      "cell_type": "code",
      "execution_count": null,
      "metadata": {
        "id": "8fC8eOhi1IOS"
      },
      "outputs": [],
      "source": [
        "# Pembagian Data\n",
        "X_train, X_test = train_test_split(df, test_size=0.2, random_state=42)\n",
        "\n",
        "# Preprocessing Data\n",
        "X_train.loc[X_train['Monthly Income (k$)'] < 0, \"Monthly Income (k$)\"] = np.nan\n",
        "X_train.loc[X_train[\"Monthly Income (k$)\"] > 100, \"Monthly Income (k$)\"] = np.nan\n",
        "X_train['Age'].fillna(value=X_train['Age'].mean(), inplace=True)\n",
        "X_train['Monthly Income (k$)'].fillna(value=X_train['Monthly Income (k$)'].mean(), inplace=True)\n",
        "X_train['Monthly Expenses (k$)'].fillna(value=X_train['Monthly Expenses (k$)'].mean(), inplace=True)\n",
        "X_train['Savings (k$)'].fillna(value=X_train['Savings (k$)'].mean(), inplace=True)\n",
        "X_train['Debt (k$)'].fillna(value=X_train['Debt (k$)'].mean(), inplace=True)\n",
        "X_train['Number of Dependents'].fillna(value=X_train['Number of Dependents'].mean(), inplace=True)\n",
        "X_train['Transaction Frequency (transactions/month)'].fillna(value=X_train['Transaction Frequency (transactions/month)'].mean(), inplace=True)\n",
        "X_train_clean = X_train.drop(['Credit Score', 'Education'], axis=1)"
      ]
    },
    {
      "cell_type": "code",
      "execution_count": null,
      "metadata": {
        "colab": {
          "background_save": true
        },
        "id": "pUFKZetZ1Zfy"
      },
      "outputs": [],
      "source": [
        "# Rescale Data\n",
        "scaler = StandardScaler()\n",
        "X_train_scaled = scaler.fit_transform(X_train_clean)\n",
        "\n",
        "# Mencari nilai epsilon\n",
        "nbrs = NearestNeighbors().fit(X_train_scaled)\n",
        "neigh_dist, _ = nbrs.kneighbors(X_train_scaled)\n",
        "sort_neigh_dist = np.sort(neigh_dist, axis=0)\n",
        "k_dist = sort_neigh_dist[:, 4]\n",
        "kneedle = KneeLocator(x=range(1, len(neigh_dist) + 1), y=k_dist, S=1.0,\n",
        "                      curve=\"concave\", direction=\"increasing\", online=True)\n",
        "epsilon = kneedle.knee_y"
      ]
    },
    {
      "cell_type": "markdown",
      "metadata": {
        "id": "hdovXlF1HNQh"
      },
      "source": [
        "##Modelling"
      ]
    },
    {
      "cell_type": "code",
      "execution_count": null,
      "metadata": {
        "colab": {
          "background_save": true
        },
        "id": "qOf1guu2HPW8"
      },
      "outputs": [],
      "source": [
        "# Pemodelan DBSCAN\n",
        "dbscan_model = DBSCAN(eps=epsilon, min_samples=4).fit(X_train_scaled)\n",
        "train_labels = dbscan_model.labels_"
      ]
    },
    {
      "cell_type": "markdown",
      "metadata": {
        "id": "qxlNO8MhBEp1"
      },
      "source": [
        "##Evaluasi"
      ]
    },
    {
      "cell_type": "code",
      "execution_count": null,
      "metadata": {
        "colab": {
          "background_save": true,
          "base_uri": "https://localhost:8080/"
        },
        "id": "EQdwRgnO1iPd",
        "outputId": "e0e8493b-dd75-46a5-e2d1-ce3bcc07e07e"
      },
      "outputs": [
        {
          "name": "stdout",
          "output_type": "stream",
          "text": [
            "Akurasi berdasarkan Silhouette score adalah: 0.6694382064634092\n"
          ]
        }
      ],
      "source": [
        "# Evaluasi menggunakan Silhouette Score\n",
        "train_silhouette_score = silhouette_score(X_train_scaled, train_labels)\n",
        "print(f\"Akurasi berdasarkan Silhouette score adalah: {train_silhouette_score}\")"
      ]
    },
    {
      "cell_type": "markdown",
      "metadata": {
        "id": "HxX2JOSDAjhp"
      },
      "source": [
        "##Visualisasi"
      ]
    },
    {
      "cell_type": "code",
      "execution_count": null,
      "metadata": {
        "colab": {
          "background_save": true,
          "base_uri": "https://localhost:8080/",
          "height": 472
        },
        "id": "Wnmq9AQsHZRG",
        "outputId": "0be6812a-5e4c-498b-cdf6-d251b25076a9"
      },
      "outputs": [
        {
          "data": {
            "image/png": "[encoded data removed]",
            "text/plain": [
              "<Figure size 640x480 with 1 Axes>"
            ]
          },
          "metadata": {},
          "output_type": "display_data"
        }
      ],
      "source": [
        "# Visualisasi\n",
        "X_train[\"predicted_cluster\"] = train_labels\n",
        "reduced_data_train = PCA(n_components=2).fit_transform(X_train_clean)\n",
        "df_reduced_data_train = pd.DataFrame(reduced_data_train, columns=[\"pca1\", \"pca2\"])\n",
        "sns.scatterplot(x=\"pca1\", y=\"pca2\", hue=X_train[\"predicted_cluster\"], data=df_reduced_data_train)\n",
        "plt.title(\"Cluster by DBSCAN (Train Data)\")\n",
        "plt.show()"
      ]
    },
    {
      "cell_type": "markdown",
      "metadata": {
        "id": "LVMuM4LWHyJC"
      },
      "source": [
        "\n",
        "\n",
        "---\n",
        "\n",
        "\n",
        "DBSCAN dipilih karena keunggulannya dalam mendeteksi cluster kompleks tanpa asumsi bentuk tertentu, kemampuannya menangani outlier, dan tidak memerlukan jumlah cluster terdefinisi sebelumnya.\n",
        "\n",
        "Silhouette Score dipilih karena kemampuannya mengukur kualitas cluster dan cocok untuk evaluasi clustering tanpa label seperti yang dilakukan oleh DBSCAN. Dengan demikian, DBSCAN dan Silhouette Score dipilih karena keunggulan masing-masing dalam menangani data tanpa label dan cluster dengan bentuk yang kompleks, serta tidak memerlukan jumlah cluster terdefinisi sebelumnya.\n",
        "\n",
        "\n",
        "---\n",
        "\n"
      ]
    }
  ],
  "metadata": {
    "colab": {
      "provenance": [],
      "authorship_tag": "ABX9TyPPUZXxJRZmSien0Aks1Wb1"
    },
    "kernelspec": {
      "display_name": "Python 3",
      "name": "python3"
    },
    "language_info": {
      "name": "python"
    }
  },
  "nbformat": 4,
  "nbformat_minor": 0
}